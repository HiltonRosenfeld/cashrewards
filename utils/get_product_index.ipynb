{
 "cells": [
  {
   "cell_type": "markdown",
   "metadata": {},
   "source": [
    "# Product Listing"
   ]
  },
  {
   "cell_type": "code",
   "execution_count": 9,
   "metadata": {},
   "outputs": [],
   "source": [
    "import requests\n",
    "\n",
    "sitemaps_products = \"https://www.thegoodguys.com.au/sitemap_products.xml\"\n",
    "\n",
    "headers = {'User-Agent': 'Mozilla/5.0 (Windows NT 10.0; Win64; x64) AppleWebKit/537.36 (KHTML, like Gecko) Chrome/111.0.0.0 Safari/537.36'}\n",
    "\n",
    "page = requests.get(sitemaps_products, headers=headers)\n",
    "\n",
    "# parse XML content to extract loc attribute\n",
    "from bs4 import BeautifulSoup\n",
    "soup = BeautifulSoup(page.content, 'xml')\n",
    "locs = soup.find_all('loc')\n",
    "\n",
    "# extract the URLs\n",
    "urls = [loc.text for loc in locs]\n",
    "\n",
    "#write urls to text file\n",
    "with open('urls.txt', 'w') as f:\n",
    "    for url in urls:\n",
    "        f.write(\"%s\\n\" % url)"
   ]
  },
  {
   "cell_type": "code",
   "execution_count": null,
   "metadata": {},
   "outputs": [],
   "source": []
  }
 ],
 "metadata": {
  "kernelspec": {
   "display_name": "env_ragstack-ai",
   "language": "python",
   "name": "python3"
  },
  "language_info": {
   "codemirror_mode": {
    "name": "ipython",
    "version": 3
   },
   "file_extension": ".py",
   "mimetype": "text/x-python",
   "name": "python",
   "nbconvert_exporter": "python",
   "pygments_lexer": "ipython3",
   "version": "3.10.14"
  }
 },
 "nbformat": 4,
 "nbformat_minor": 2
}

{
 "cells": [
  {
   "cell_type": "code",
   "execution_count": 1,
   "metadata": {},
   "outputs": [],
   "source": [
    "from bs4 import BeautifulSoup\n",
    "\n",
    "#url = \"https://www.thegoodguys.com.au/lg-50-inches-ut8050-4k-uhd-led-smart-tv-24-50ut8050psb\"\n",
    "#url = \"https://www.thegoodguys.com.au/apple-watch-se-gps-40mm-starlight-aluminium-case-with-starlight-sport-band-sm-mr9u3zpa\"\n",
    "#url = \"https://www.thegoodguys.com.au/hisense-100-inches-q7nau-4k-qled-smart-tv-24-100q7nau\"\n",
    "#url = \"https://www.thegoodguys.com.au/crest-indoor-digital-tv-antenna-sga05331\"\n",
    "url = \"https://www.thegoodguys.com.au/linsar-75-inches-4k-uhd-smart-tizen-tv-2022-ls75uhdzen\""
   ]
  },
  {
   "cell_type": "markdown",
   "metadata": {},
   "source": [
    "*Selenium Version*"
   ]
  },
  {
   "cell_type": "code",
   "execution_count": 2,
   "metadata": {},
   "outputs": [],
   "source": [
    "from selenium import webdriver\n",
    "from selenium.webdriver.common.by import By\n",
    "\n",
    "\n",
    "# Create a new instance of the Chrome driver\n",
    "driver = webdriver.Chrome()\n",
    "driver.implicitly_wait(5)\n",
    "\n",
    "\n",
    "def interceptor(request):\n",
    "    del request.headers['User-Agent']  # Delete the header first\n",
    "    request.headers['User-Agent'] = 'Mozilla/5.0 (Windows NT 10.0; Win64; x64) AppleWebKit/537.36 (KHTML, like Gecko) Chrome/102.0.0.0 Safari/537.36'\n",
    "# Set the interceptor on the driver\n",
    "driver.request_interceptor = interceptor\n",
    "\n",
    "driver.get(url)\n",
    "driver.execute_script('window.scrollBy(0, 1000)')\n",
    "\n",
    "# Parse the HTML content of the job posting using BeautifulSoup\n",
    "soup = BeautifulSoup(driver.page_source, 'html.parser')"
   ]
  },
  {
   "cell_type": "markdown",
   "metadata": {},
   "source": [
    "*Requests Version*"
   ]
  },
  {
   "cell_type": "code",
   "execution_count": null,
   "metadata": {},
   "outputs": [],
   "source": [
    "import requests\n",
    "\n",
    "headers = {'User-Agent': 'Mozilla/5.0 (Windows NT 10.0; Win64; x64) AppleWebKit/537.36 (KHTML, like Gecko) Chrome/111.0.0.0 Safari/537.36'}\n",
    "page = requests.get(url, headers=headers)\n",
    "# Parse the HTML content of the job posting using BeautifulSoup\n",
    "soup = BeautifulSoup(page.text, 'html.parser')"
   ]
  },
  {
   "cell_type": "code",
   "execution_count": 3,
   "metadata": {},
   "outputs": [
    {
     "name": "stdout",
     "output_type": "stream",
     "text": [
      "Linsar 75\" 4K UHD Smart Tizen TV 2022\n"
     ]
    }
   ],
   "source": [
    "# Title\n",
    "# class=\"pdp__main-title text-light text-graydark-3 text-center\"\n",
    "item_title = soup.find('h1', {'class': 'pdp__main-title'})\n",
    "if item_title is not None:\n",
    "    item_title = item_title.text.strip()\n",
    "else:\n",
    "    item_title = \"\"\n",
    "\n",
    "print(item_title)"
   ]
  },
  {
   "cell_type": "code",
   "execution_count": 4,
   "metadata": {},
   "outputs": [
    {
     "name": "stdout",
     "output_type": "stream",
     "text": [
      "Linsar\n"
     ]
    }
   ],
   "source": [
    "# Brand\n",
    "if item_title is not None:\n",
    "    # set brand to the first word of the title\n",
    "    brand = item_title.split()[0]\n",
    "\n",
    "print(brand)"
   ]
  },
  {
   "cell_type": "code",
   "execution_count": 5,
   "metadata": {},
   "outputs": [
    {
     "name": "stdout",
     "output_type": "stream",
     "text": [
      "The Linsar 75\" 4K UHD Smart Tizen TV 2022 LS75UHDZEN could be the best value in its class, powered by Tizen which is owned by over 190 million users across the world. Enjoy an immersive experience with High Dynamic Range HDR accentuating the darkness of blacks and intensity of whites for lifelike viewing (1). Tizen OS is a leading experience in TVs, a centrepiece of your home viewing experience providing access to content beyond just simple streaming services and multiple smart home device connections. Instantly access your favourite apps with a single quick access button press or control the show with the built-in voice assistant (2). Samsung TV Plus is included at no extra cost and contains a catalog of live content around news, sports, gaming, cooking and kids programs. Disclaimers: (1) Image quality dependant on source material. (2) Service may not be available at time of purchase and may be received later via an Over The Net update\n"
     ]
    }
   ],
   "source": [
    "# Description\n",
    "# moreContent\n",
    "item_description = soup.find('span', {'class': 'moreContent'})\n",
    "if item_description is not None:\n",
    "    item_description = item_description.text.strip()\n",
    "    # strip '...Less' and trailing spaces from the end of the description\n",
    "    item_description = item_description.replace(\"...Less\", \"\").strip()\n",
    "else:\n",
    "    item_description = soup.find('span', {'class': 'firstContent'})\n",
    "    if item_description is not None:\n",
    "        item_description = item_description.text.strip()\n",
    "        # strip '...Less' and trailing spaces from the end of the description\n",
    "        item_description = item_description.replace(\"...Less\", \"\").strip()\n",
    "    else:\n",
    "        item_description = \"\"\n",
    "\n",
    "print(item_description)"
   ]
  },
  {
   "cell_type": "code",
   "execution_count": 6,
   "metadata": {},
   "outputs": [
    {
     "name": "stdout",
     "output_type": "stream",
     "text": [
      "$ 1194\n"
     ]
    }
   ],
   "source": [
    "# Price\n",
    "\n",
    "# div id=\"PriceDisplayWidget\"\n",
    "PriceDisplayWidget = soup.find('div', {'id': 'PriceDisplayWidget'})\n",
    "if PriceDisplayWidget is not None:\n",
    "    item_price = PriceDisplayWidget.find('span')\n",
    "    if item_price is not None:\n",
    "        item_price = item_price.text.strip()\n",
    "        # get the leading $ sign\n",
    "        item_currency = item_price[0]\n",
    "        # remove the leading $ sign\n",
    "        item_price = item_price[1:]\n",
    "    else:\n",
    "        item_price = \"\"\n",
    "else:\n",
    "    item_price = \"\"\n",
    "print(f\"{item_currency} {item_price}\")"
   ]
  },
  {
   "cell_type": "code",
   "execution_count": 8,
   "metadata": {},
   "outputs": [
    {
     "name": "stdout",
     "output_type": "stream",
     "text": [
      "//thegoodguys.sirv.com/products/50082061/50082061_836557.PNG\n"
     ]
    }
   ],
   "source": [
    "# Image\n",
    "\n",
    "#product_gallery = soup.find('section', {'class': re.compile('product-gallery')})\n",
    "slickCarousel = soup.find('section', {'id': 'slickCarousel'})\n",
    "# <img alt='TCL 32\" S5400 FHD Android Smart TV 23  32S5400AF' class=\"product-image-main\" data-lazy=\"//thegoodguys.sirv.com/products/50085261/50085261_866872.PNG?scale.height=505&amp;scale.width=773&amp;canvas.height=505&amp;canvas.width=773&amp;canvas.opacity=0&amp;q=90\"></img>\n",
    "\n",
    "# Find the last image in the SLick Carousel\n",
    "image = slickCarousel.find_all('img')[-1]\n",
    "try:\n",
    "    item_img = image['data-lazy']\n",
    "except:\n",
    "    item_img = None\n",
    "\n",
    "if not item_img:\n",
    "    try: \n",
    "        item_img = image['src']\n",
    "    except:\n",
    "        item_img = None\n",
    "\n",
    "# split item_img on \"?\" character\n",
    "item_img = item_img.split(\"?\")[0]\n",
    "print(item_img)"
   ]
  },
  {
   "cell_type": "code",
   "execution_count": null,
   "metadata": {},
   "outputs": [],
   "source": [
    "# Key Features\n",
    "key_features = {}\n",
    "\n",
    "# section id=\"keyftr\"\n",
    "keyftr = soup.find('section', {'id': 'keyftr'})\n",
    "if keyftr is not None:\n",
    "    brand_logo_keyftrs = keyftr.find('img', {'class': 'brand_logo_keyftrs'})['src']\n",
    "    key_features.update({\"brand_logo\": brand_logo_keyftrs})\n",
    "\n",
    "    featurelist = keyftr.find('ul', {'class': 'featurelist'})\n",
    "    if featurelist is not None:\n",
    "        # get the unordered list items\n",
    "        featurelist = featurelist.find_all('li')\n",
    "        # get the text of each list item\n",
    "        for item in featurelist:\n",
    "            # get the h5 item\n",
    "            h5 = item.find('h5').text.strip()\n",
    "            # get the small item\n",
    "            small = item.find('small').text.strip()\n",
    "            key_features.update({small: h5})\n",
    "\n",
    "print(key_features)"
   ]
  },
  {
   "cell_type": "code",
   "execution_count": null,
   "metadata": {},
   "outputs": [],
   "source": [
    "# Technical Specs\n",
    "tech_specs = {}\n",
    "\n",
    "# class=\"speci_area\"\n",
    "speci_area = soup.find('table', {'class': 'speci_area'})\n",
    "if speci_area is not None:\n",
    "    # get the table rows\n",
    "    rows = speci_area.find_all('tr')\n",
    "    if rows is not None:\n",
    "        # get each column of the row\n",
    "        for row in rows:\n",
    "            # get the label and value of each row\n",
    "            th = row.find('th').text.strip()\n",
    "            td = row.find('td').text.strip()\n",
    "            tech_specs.update({th: td})\n",
    "\n",
    "print(tech_specs)"
   ]
  },
  {
   "cell_type": "code",
   "execution_count": null,
   "metadata": {},
   "outputs": [],
   "source": [
    "#product_feature_box = driver.find_element(By.ID, \"product_feature_box\")\n",
    "#std_desc = driver.find_element(By.CLASS_NAME, \"flix-std-desc\")\n",
    "#product_feature_box = driver.find_element(By.ID, \"flix-std-inpage\")\n",
    "    \n",
    "try:\n",
    "    product_feature_box = driver.find_element(By.ID, \"AllInOne\")\n",
    "    if product_feature_box:\n",
    "        product_feature_box = product_feature_box.text.strip()\n",
    "\n",
    "        # remove line with 'previous'\n",
    "        product_feature_box = product_feature_box.replace(\"Previous\", \"\")\n",
    "        product_feature_box = product_feature_box.replace(\"Next\", \"\")\n",
    "\n",
    "        import re\n",
    "        # remove line containing regregular expression ''\n",
    "        product_feature_box = re.sub(\"\\d\\d*\\/.*\", \" \", product_feature_box)\n",
    "\n",
    "except:\n",
    "    product_feature_box = \"\""
   ]
  },
  {
   "cell_type": "code",
   "execution_count": null,
   "metadata": {},
   "outputs": [],
   "source": [
    "print(product_feature_box)"
   ]
  },
  {
   "cell_type": "code",
   "execution_count": null,
   "metadata": {},
   "outputs": [],
   "source": [
    "driver.quit()"
   ]
  },
  {
   "cell_type": "code",
   "execution_count": null,
   "metadata": {},
   "outputs": [],
   "source": []
  }
 ],
 "metadata": {
  "kernelspec": {
   "display_name": "env_ragstack-ai",
   "language": "python",
   "name": "python3"
  },
  "language_info": {
   "codemirror_mode": {
    "name": "ipython",
    "version": 3
   },
   "file_extension": ".py",
   "mimetype": "text/x-python",
   "name": "python",
   "nbconvert_exporter": "python",
   "pygments_lexer": "ipython3",
   "version": "3.10.14"
  }
 },
 "nbformat": 4,
 "nbformat_minor": 2
}

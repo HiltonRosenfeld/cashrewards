{
 "cells": [
  {
   "cell_type": "code",
   "execution_count": 1,
   "metadata": {},
   "outputs": [],
   "source": [
    "from bs4 import BeautifulSoup\n",
    "\n",
    "#url = \"https://www.thegoodguys.com.au/lg-50-inches-ut8050-4k-uhd-led-smart-tv-24-50ut8050psb\"\n",
    "#url = \"https://www.thegoodguys.com.au/apple-watch-se-gps-40mm-starlight-aluminium-case-with-starlight-sport-band-sm-mr9u3zpa\"\n",
    "#url = \"https://www.thegoodguys.com.au/hisense-100-inches-q7nau-4k-qled-smart-tv-24-100q7nau\"\n",
    "url = \"https://www.thegoodguys.com.au/crest-indoor-digital-tv-antenna-sga05331\""
   ]
  },
  {
   "cell_type": "markdown",
   "metadata": {},
   "source": [
    "*Selenium Version*"
   ]
  },
  {
   "cell_type": "code",
   "execution_count": 2,
   "metadata": {},
   "outputs": [],
   "source": [
    "from selenium import webdriver\n",
    "#from selenium.webdriver.support.wait import WebDriverWait\n",
    "from selenium.webdriver.common.by import By\n",
    "#from selenium.webdriver.support import expected_conditions as EC\n",
    "#import time\n",
    "\n",
    "\n",
    "# Create a new instance of the Chrome driver\n",
    "driver = webdriver.Chrome()\n",
    "driver.implicitly_wait(5)\n",
    "\n",
    "\n",
    "def interceptor(request):\n",
    "    del request.headers['User-Agent']  # Delete the header first\n",
    "    request.headers['User-Agent'] = 'Mozilla/5.0 (Windows NT 10.0; Win64; x64) AppleWebKit/537.36 (KHTML, like Gecko) Chrome/102.0.0.0 Safari/537.36'\n",
    "# Set the interceptor on the driver\n",
    "driver.request_interceptor = interceptor\n",
    "\n",
    "driver.get(url)\n",
    "driver.execute_script('window.scrollBy(0, 1000)')\n",
    "\n",
    "#WebDriverWait(driver, 10).until(EC.presence_of_element_located((By.ID, \"product_feature_box\"))) \n",
    "\n",
    "\n",
    "# Parse the HTML content of the job posting using BeautifulSoup\n",
    "soup = BeautifulSoup(driver.page_source, 'html.parser')"
   ]
  },
  {
   "cell_type": "markdown",
   "metadata": {},
   "source": [
    "*Requests Version*"
   ]
  },
  {
   "cell_type": "code",
   "execution_count": null,
   "metadata": {},
   "outputs": [],
   "source": [
    "import requests\n",
    "\n",
    "headers = {'User-Agent': 'Mozilla/5.0 (Windows NT 10.0; Win64; x64) AppleWebKit/537.36 (KHTML, like Gecko) Chrome/111.0.0.0 Safari/537.36'}\n",
    "page = requests.get(url, headers=headers)\n",
    "# Parse the HTML content of the job posting using BeautifulSoup\n",
    "soup = BeautifulSoup(page.text, 'html.parser')"
   ]
  },
  {
   "cell_type": "code",
   "execution_count": 3,
   "metadata": {},
   "outputs": [
    {
     "name": "stdout",
     "output_type": "stream",
     "text": [
      "Crest Indoor Digital TV Antenna\n"
     ]
    }
   ],
   "source": [
    "# Title\n",
    "# class=\"pdp__main-title text-light text-graydark-3 text-center\"\n",
    "item_title = soup.find('h1', {'class': 'pdp__main-title'})\n",
    "if item_title is not None:\n",
    "    item_title = item_title.text.strip()\n",
    "else:\n",
    "    item_title = \"\"\n",
    "\n",
    "print(item_title)"
   ]
  },
  {
   "cell_type": "code",
   "execution_count": 4,
   "metadata": {},
   "outputs": [
    {
     "name": "stdout",
     "output_type": "stream",
     "text": [
      "Crest\n"
     ]
    }
   ],
   "source": [
    "# Brand\n",
    "if item_title is not None:\n",
    "    # set brand to the first word of the title\n",
    "    brand = item_title.split()[0]\n",
    "\n",
    "print(brand)"
   ]
  },
  {
   "cell_type": "code",
   "execution_count": 5,
   "metadata": {},
   "outputs": [
    {
     "name": "stdout",
     "output_type": "stream",
     "text": [
      "Bring home the latest in TV antenna technology with the Crest Indoor Digital TV Antenna. This sleek and modern antenna effortlessly picks up free-to-air channels with gains of 5-7dB on both VHF and UHF frequencies for crystal clear picture and sound quality. With its compact, low-profile design, it blends into any living room decor while pulling in a wide range of channels like ABC, SBS, Seven, Nine and Ten without the need for cables or setup. Its enhanced UHF and VHF reception allows you to cut ties with paid television services and start enjoying free broadcast television. This antenna eliminates the need for unsightly rooftop antennas with its easy, plug and play installation. Simply connect it to your television and scan for channels to start accessing free shows, movies, sports and news. Plus, the Crest Antenna utilizes a durable plastic housing that withstands everyday use. Give your home the gift of free entertainment for life with the Crest Indoor Digital TV Antenna. The manufacturer's part number for this product is SGA05331. Experience the joy of free TV with this innovative indoor antenna today.\n"
     ]
    }
   ],
   "source": [
    "# Description\n",
    "# moreContent\n",
    "item_description = soup.find('span', {'class': 'moreContent'})\n",
    "if item_description is not None:\n",
    "    item_description = item_description.text.strip()\n",
    "    # strip '...Less' and trailing spaces from the end of the description\n",
    "    item_description = item_description.replace(\"...Less\", \"\").strip()\n",
    "else:\n",
    "    item_description = soup.find('span', {'class': 'firstContent'})\n",
    "    if item_description is not None:\n",
    "        item_description = item_description.text.strip()\n",
    "        # strip '...Less' and trailing spaces from the end of the description\n",
    "        item_description = item_description.replace(\"...Less\", \"\").strip()\n",
    "    else:\n",
    "        item_description = \"\"\n",
    "\n",
    "print(item_description)"
   ]
  },
  {
   "cell_type": "code",
   "execution_count": 6,
   "metadata": {},
   "outputs": [
    {
     "name": "stdout",
     "output_type": "stream",
     "text": [
      "$ 24\n"
     ]
    }
   ],
   "source": [
    "# Price\n",
    "\n",
    "# div id=\"PriceDisplayWidget\"\n",
    "PriceDisplayWidget = soup.find('div', {'id': 'PriceDisplayWidget'})\n",
    "if PriceDisplayWidget is not None:\n",
    "    item_price = PriceDisplayWidget.find('span')\n",
    "    if item_price is not None:\n",
    "        item_price = item_price.text.strip()\n",
    "        # get the leading $ sign\n",
    "        item_currency = item_price[0]\n",
    "        # remove the leading $ sign\n",
    "        item_price = item_price[1:]\n",
    "    else:\n",
    "        item_price = \"\"\n",
    "else:\n",
    "    item_price = \"\"\n",
    "print(f\"{item_currency} {item_price}\")"
   ]
  },
  {
   "cell_type": "code",
   "execution_count": 9,
   "metadata": {},
   "outputs": [
    {
     "name": "stdout",
     "output_type": "stream",
     "text": [
      "//thegoodguys.sirv.com/products/50038205/50038205_129789.PNG\n"
     ]
    }
   ],
   "source": [
    "# Image\n",
    "\n",
    "#product_gallery = soup.find('section', {'class': re.compile('product-gallery')})\n",
    "slickCarousel = soup.find('section', {'id': 'slickCarousel'})\n",
    "# <img alt='TCL 32\" S5400 FHD Android Smart TV 23  32S5400AF' class=\"product-image-main\" data-lazy=\"//thegoodguys.sirv.com/products/50085261/50085261_866872.PNG?scale.height=505&amp;scale.width=773&amp;canvas.height=505&amp;canvas.width=773&amp;canvas.opacity=0&amp;q=90\"></img>\n",
    "\n",
    "image = slickCarousel.find('img')\n",
    "try:\n",
    "    item_img = image['data-lazy']\n",
    "except:\n",
    "    item_img = None\n",
    "\n",
    "if not item_img:\n",
    "    try: \n",
    "        item_img = image['src']\n",
    "    except:\n",
    "        item_img = None\n",
    "\n",
    "# split item_img on \"?\" character\n",
    "item_img = item_img.split(\"?\")[0]\n",
    "print(item_img)"
   ]
  },
  {
   "cell_type": "code",
   "execution_count": null,
   "metadata": {},
   "outputs": [],
   "source": [
    "# Key Features\n",
    "key_features = {}\n",
    "\n",
    "# section id=\"keyftr\"\n",
    "keyftr = soup.find('section', {'id': 'keyftr'})\n",
    "if keyftr is not None:\n",
    "    brand_logo_keyftrs = keyftr.find('img', {'class': 'brand_logo_keyftrs'})['src']\n",
    "    key_features.update({\"brand_logo\": brand_logo_keyftrs})\n",
    "\n",
    "    featurelist = keyftr.find('ul', {'class': 'featurelist'})\n",
    "    if featurelist is not None:\n",
    "        # get the unordered list items\n",
    "        featurelist = featurelist.find_all('li')\n",
    "        # get the text of each list item\n",
    "        for item in featurelist:\n",
    "            # get the h5 item\n",
    "            h5 = item.find('h5').text.strip()\n",
    "            # get the small item\n",
    "            small = item.find('small').text.strip()\n",
    "            key_features.update({small: h5})\n",
    "\n",
    "print(key_features)"
   ]
  },
  {
   "cell_type": "code",
   "execution_count": null,
   "metadata": {},
   "outputs": [],
   "source": [
    "# Technical Specs\n",
    "tech_specs = {}\n",
    "\n",
    "# class=\"speci_area\"\n",
    "speci_area = soup.find('table', {'class': 'speci_area'})\n",
    "if speci_area is not None:\n",
    "    # get the table rows\n",
    "    rows = speci_area.find_all('tr')\n",
    "    if rows is not None:\n",
    "        # get each column of the row\n",
    "        for row in rows:\n",
    "            # get the label and value of each row\n",
    "            th = row.find('th').text.strip()\n",
    "            td = row.find('td').text.strip()\n",
    "            tech_specs.update({th: td})\n",
    "\n",
    "print(tech_specs)"
   ]
  },
  {
   "cell_type": "code",
   "execution_count": null,
   "metadata": {},
   "outputs": [],
   "source": [
    "#product_feature_box = driver.find_element(By.ID, \"product_feature_box\")\n",
    "#std_desc = driver.find_element(By.CLASS_NAME, \"flix-std-desc\")\n",
    "#product_feature_box = driver.find_element(By.ID, \"flix-std-inpage\")\n",
    "    \n",
    "try:\n",
    "    product_feature_box = driver.find_element(By.ID, \"AllInOne\")\n",
    "    if product_feature_box:\n",
    "        product_feature_box = product_feature_box.text.strip()\n",
    "\n",
    "        # remove line with 'previous'\n",
    "        product_feature_box = product_feature_box.replace(\"Previous\", \"\")\n",
    "        product_feature_box = product_feature_box.replace(\"Next\", \"\")\n",
    "\n",
    "        import re\n",
    "        # remove line containing regregular expression ''\n",
    "        product_feature_box = re.sub(\"\\d\\d*\\/.*\", \" \", product_feature_box)\n",
    "\n",
    "except:\n",
    "    product_feature_box = \"\""
   ]
  },
  {
   "cell_type": "code",
   "execution_count": null,
   "metadata": {},
   "outputs": [],
   "source": [
    "print(product_feature_box)"
   ]
  },
  {
   "cell_type": "code",
   "execution_count": null,
   "metadata": {},
   "outputs": [],
   "source": [
    "driver.quit()"
   ]
  },
  {
   "cell_type": "code",
   "execution_count": null,
   "metadata": {},
   "outputs": [],
   "source": []
  }
 ],
 "metadata": {
  "kernelspec": {
   "display_name": "env_ragstack-ai",
   "language": "python",
   "name": "python3"
  },
  "language_info": {
   "codemirror_mode": {
    "name": "ipython",
    "version": 3
   },
   "file_extension": ".py",
   "mimetype": "text/x-python",
   "name": "python",
   "nbconvert_exporter": "python",
   "pygments_lexer": "ipython3",
   "version": "3.10.14"
  }
 },
 "nbformat": 4,
 "nbformat_minor": 2
}
